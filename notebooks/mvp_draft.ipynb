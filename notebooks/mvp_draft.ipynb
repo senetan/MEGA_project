{
 "cells": [
  {
   "cell_type": "markdown",
   "metadata": {},
   "source": [
    "## K- Means clustering basic model"
   ]
  },
  {
   "cell_type": "code",
   "execution_count": null,
   "metadata": {},
   "outputs": [],
   "source": [
    "import pandas as pd\n",
    "import numpy as np\n",
    "from sklearn.cluster import KMeans\n",
    "import matplotlib.pyplot as plt\n",
    "import folium\n",
    "\n",
    "# Aim here is to identify cluster where the gas price / EV charging ratio is lowest\n",
    "data = pd.DataFrame({\n",
    "    'latitude': np.random.uniform(45, 55, 100),    # approximate latitudes in Europe\n",
    "    'longitude': np.random.uniform(5, 15, 100),      # approximate longitudes in Europe\n",
    "    'price': np.random.uniform(1.0, 2.0, 100)        # e.g., fuel price in euros per liter\n",
    "})\n",
    "\n",
    "# Feature matrix: use location and price\n",
    "X = data[['latitude', 'longitude', 'price']]\n",
    "\n",
    "# Use KMeans to find, for example, 5 clusters (adjust number as needed)\n",
    "n_clusters = 5\n",
    "kmeans = KMeans(n_clusters=n_clusters, random_state=42)\n",
    "data['cluster'] = kmeans.fit_predict(X)\n",
    "\n",
    "# Print out cluster centers\n",
    "print(\"Cluster centers (latitude, longitude, price):\")\n",
    "print(kmeans.cluster_centers_)\n",
    "\n",
    "# Plot clusters using matplotlib (for a quick look)\n",
    "plt.figure(figsize=(8,6))\n",
    "plt.scatter(data['longitude'], data['latitude'], c=data['cluster'], cmap='viridis', alpha=0.6)\n",
    "plt.colorbar(label='Cluster')\n",
    "plt.xlabel(\"Longitude\")\n",
    "plt.ylabel(\"Latitude\")\n",
    "plt.title(\"K-Means Clusters of European Regions by Price\")\n",
    "plt.show()\n",
    "\n",
    "# Optionally, create an interactive map with Folium\n",
    "map_center = [data['latitude'].mean(), data['longitude'].mean()]\n",
    "m = folium.Map(location=map_center, zoom_start=6)\n",
    "colors = ['red', 'blue', 'green', 'purple', 'orange']\n",
    "\n",
    "# Add each point to the map\n",
    "for idx, row in data.iterrows():\n",
    "    folium.CircleMarker(\n",
    "        location=[row['latitude'], row['longitude']],\n",
    "        radius=3,\n",
    "        color=colors[int(row['cluster']) % len(colors)],\n",
    "        fill=True\n",
    "    ).add_to(m)\n",
    "\n",
    "# Display the map in a Jupyter Notebook (use m.save('map.html') to save)\n",
    "m"
   ]
  },
  {
   "cell_type": "markdown",
   "metadata": {},
   "source": [
    "## K-means clustering prediction"
   ]
  },
  {
   "cell_type": "code",
   "execution_count": 1,
   "metadata": {},
   "outputs": [
    {
     "ename": "NameError",
     "evalue": "name 'pd' is not defined",
     "output_type": "error",
     "traceback": [
      "\u001b[0;31m---------------------------------------------------------------------------\u001b[0m",
      "\u001b[0;31mNameError\u001b[0m                                 Traceback (most recent call last)",
      "Cell \u001b[0;32mIn [1], line 3\u001b[0m\n\u001b[1;32m      1\u001b[0m \u001b[38;5;66;03m# Aim here is to predict the differential fuel to EV charging by geograhical cluster\u001b[39;00m\n\u001b[0;32m----> 3\u001b[0m data \u001b[38;5;241m=\u001b[39m \u001b[43mpd\u001b[49m\u001b[38;5;241m.\u001b[39mDataFrame({\n\u001b[1;32m      4\u001b[0m     \u001b[38;5;124m'\u001b[39m\u001b[38;5;124mlatitude\u001b[39m\u001b[38;5;124m'\u001b[39m: [\u001b[38;5;241m48.8566\u001b[39m, \u001b[38;5;241m50.1109\u001b[39m, \u001b[38;5;241m52.5200\u001b[39m, \u001b[38;5;241m41.9028\u001b[39m, \u001b[38;5;241m45.7640\u001b[39m],\n\u001b[1;32m      5\u001b[0m     \u001b[38;5;124m'\u001b[39m\u001b[38;5;124mlongitude\u001b[39m\u001b[38;5;124m'\u001b[39m: [\u001b[38;5;241m2.3522\u001b[39m, \u001b[38;5;241m8.6821\u001b[39m, \u001b[38;5;241m13.4050\u001b[39m, \u001b[38;5;241m12.4964\u001b[39m, \u001b[38;5;241m4.8357\u001b[39m],\n\u001b[1;32m      6\u001b[0m     \u001b[38;5;124m'\u001b[39m\u001b[38;5;124mprice\u001b[39m\u001b[38;5;124m'\u001b[39m: [\u001b[38;5;241m1.40\u001b[39m, \u001b[38;5;241m1.35\u001b[39m, \u001b[38;5;241m1.50\u001b[39m, \u001b[38;5;241m1.20\u001b[39m, \u001b[38;5;241m1.45\u001b[39m],  \u001b[38;5;66;03m# example gas price or charging price\u001b[39;00m\n\u001b[1;32m      7\u001b[0m     \u001b[38;5;124m'\u001b[39m\u001b[38;5;124mtrip_cost\u001b[39m\u001b[38;5;124m'\u001b[39m: [\u001b[38;5;241m20\u001b[39m, \u001b[38;5;241m25\u001b[39m, \u001b[38;5;241m18\u001b[39m, \u001b[38;5;241m22\u001b[39m, \u001b[38;5;241m21\u001b[39m]         \u001b[38;5;66;03m# target variable for prediction\u001b[39;00m\n\u001b[1;32m      8\u001b[0m })\n\u001b[1;32m     10\u001b[0m \u001b[38;5;66;03m# Split the data randomly (e.g., 80% training, 20% testing)\u001b[39;00m\n\u001b[1;32m     11\u001b[0m X \u001b[38;5;241m=\u001b[39m data\u001b[38;5;241m.\u001b[39mdrop(\u001b[38;5;124m'\u001b[39m\u001b[38;5;124mtrip_cost\u001b[39m\u001b[38;5;124m'\u001b[39m, axis\u001b[38;5;241m=\u001b[39m\u001b[38;5;241m1\u001b[39m)\n",
      "\u001b[0;31mNameError\u001b[0m: name 'pd' is not defined"
     ]
    }
   ],
   "source": [
    "# Aim here is to predict the differential fuel to EV charging by geograhical cluster\n",
    "\n",
    "data = pd.DataFrame({\n",
    "    'latitude': [48.8566, 50.1109, 52.5200, 41.9028, 45.7640],\n",
    "    'longitude': [2.3522, 8.6821, 13.4050, 12.4964, 4.8357],\n",
    "    'price': [1.40, 1.35, 1.50, 1.20, 1.45],  # example gas price or charging price\n",
    "    'trip_cost': [20, 25, 18, 22, 21]         # target variable for prediction\n",
    "})\n",
    "\n",
    "# Split the data randomly (e.g., 80% training, 20% testing)\n",
    "X = data.drop('trip_cost', axis=1)\n",
    "y = data['trip_cost']\n",
    "X_train, X_test, y_train, y_test = train_test_split(X, y, test_size=0.2, random_state=42)\n",
    "\n",
    "print(\"Training set:\")\n",
    "print(X_train)\n",
    "print(\"\\nTest set:\")\n",
    "print(X_test)"
   ]
  },
  {
   "cell_type": "markdown",
   "metadata": {},
   "source": []
  }
 ],
 "metadata": {
  "kernelspec": {
   "display_name": "lewagon",
   "language": "python",
   "name": "python3"
  },
  "language_info": {
   "codemirror_mode": {
    "name": "ipython",
    "version": 3
   },
   "file_extension": ".py",
   "mimetype": "text/x-python",
   "name": "python",
   "nbconvert_exporter": "python",
   "pygments_lexer": "ipython3",
   "version": "3.10.6"
  }
 },
 "nbformat": 4,
 "nbformat_minor": 2
}
