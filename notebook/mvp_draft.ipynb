{
 "cells": [
  {
   "cell_type": "markdown",
   "metadata": {},
   "source": [
    "# Predicting electricity carbon intensity at a given time and place (test = Germany)"
   ]
  },
  {
   "cell_type": "markdown",
   "metadata": {},
   "source": [
    "## Import libraries and modules"
   ]
  },
  {
   "cell_type": "code",
   "execution_count": 1,
   "metadata": {},
   "outputs": [
    {
     "name": "stderr",
     "output_type": "stream",
     "text": [
      "2025-03-22 11:22:48.910319: I tensorflow/core/util/port.cc:153] oneDNN custom operations are on. You may see slightly different numerical results due to floating-point round-off errors from different computation orders. To turn them off, set the environment variable `TF_ENABLE_ONEDNN_OPTS=0`.\n",
      "2025-03-22 11:22:48.945747: I external/local_xla/xla/tsl/cuda/cudart_stub.cc:32] Could not find cuda drivers on your machine, GPU will not be used.\n",
      "2025-03-22 11:22:49.322435: I external/local_xla/xla/tsl/cuda/cudart_stub.cc:32] Could not find cuda drivers on your machine, GPU will not be used.\n",
      "2025-03-22 11:22:49.531425: E external/local_xla/xla/stream_executor/cuda/cuda_fft.cc:467] Unable to register cuFFT factory: Attempting to register factory for plugin cuFFT when one has already been registered\n",
      "WARNING: All log messages before absl::InitializeLog() is called are written to STDERR\n",
      "E0000 00:00:1742638969.716613   37698 cuda_dnn.cc:8579] Unable to register cuDNN factory: Attempting to register factory for plugin cuDNN when one has already been registered\n",
      "E0000 00:00:1742638969.769074   37698 cuda_blas.cc:1407] Unable to register cuBLAS factory: Attempting to register factory for plugin cuBLAS when one has already been registered\n",
      "W0000 00:00:1742638970.177177   37698 computation_placer.cc:177] computation placer already registered. Please check linkage and avoid linking the same target more than once.\n",
      "W0000 00:00:1742638970.177311   37698 computation_placer.cc:177] computation placer already registered. Please check linkage and avoid linking the same target more than once.\n",
      "W0000 00:00:1742638970.177315   37698 computation_placer.cc:177] computation placer already registered. Please check linkage and avoid linking the same target more than once.\n",
      "W0000 00:00:1742638970.177317   37698 computation_placer.cc:177] computation placer already registered. Please check linkage and avoid linking the same target more than once.\n",
      "2025-03-22 11:22:50.241472: I tensorflow/core/platform/cpu_feature_guard.cc:210] This TensorFlow binary is optimized to use available CPU instructions in performance-critical operations.\n",
      "To enable the following instructions: AVX2 AVX512F AVX512_VNNI FMA, in other operations, rebuild TensorFlow with the appropriate compiler flags.\n"
     ]
    }
   ],
   "source": [
    "import requests\n",
    "import pandas as pd\n",
    "import numpy as np\n",
    "import seaborn as sns\n",
    "import matplotlib.pyplot as plt\n",
    "import tensorflow as tf\n",
    "#from tensorflow.keras.models import Sequential\n",
    "from tensorflow.keras.layers import Dense\n",
    "from tensorflow.keras import regularizers, models, layers, Sequential\n",
    "#from tensorflow.keras.wrappers.scikit_learn import KerasRegressor\n",
    "from scikeras.wrappers import KerasRegressor\n",
    "from sklearn.preprocessing import MinMaxScaler, FunctionTransformer\n",
    "from sklearn.decomposition import PCA\n",
    "from sklearn.pipeline import Pipeline\n",
    "from sklearn.compose import TransformedTargetRegressor\n",
    "from sklearn.model_selection import train_test_split\n",
    "from sklearn.metrics import mean_squared_error, mean_absolute_error\n",
    "from keras.callbacks import EarlyStopping\n",
    "from keras.optimizers import Adam\n",
    "import joblib\n",
    "import pickle"
   ]
  },
  {
   "cell_type": "code",
   "execution_count": 2,
   "metadata": {},
   "outputs": [
    {
     "name": "stdout",
     "output_type": "stream",
     "text": [
      "Requirement already satisfied: fastapi in /root/.pyenv/versions/3.10.6/envs/MEGA_project/lib/python3.10/site-packages (0.115.11)\n",
      "Requirement already satisfied: uvicorn in /root/.pyenv/versions/3.10.6/envs/MEGA_project/lib/python3.10/site-packages (0.34.0)\n",
      "Requirement already satisfied: starlette<0.47.0,>=0.40.0 in /root/.pyenv/versions/3.10.6/envs/MEGA_project/lib/python3.10/site-packages (from fastapi) (0.46.1)\n",
      "Requirement already satisfied: pydantic!=1.8,!=1.8.1,!=2.0.0,!=2.0.1,!=2.1.0,<3.0.0,>=1.7.4 in /root/.pyenv/versions/3.10.6/envs/MEGA_project/lib/python3.10/site-packages (from fastapi) (2.10.6)\n",
      "Requirement already satisfied: typing-extensions>=4.8.0 in /root/.pyenv/versions/3.10.6/envs/MEGA_project/lib/python3.10/site-packages (from fastapi) (4.12.2)\n",
      "Requirement already satisfied: click>=7.0 in /root/.pyenv/versions/3.10.6/envs/MEGA_project/lib/python3.10/site-packages (from uvicorn) (8.1.8)\n",
      "Requirement already satisfied: h11>=0.8 in /root/.pyenv/versions/3.10.6/envs/MEGA_project/lib/python3.10/site-packages (from uvicorn) (0.14.0)\n",
      "Requirement already satisfied: annotated-types>=0.6.0 in /root/.pyenv/versions/3.10.6/envs/MEGA_project/lib/python3.10/site-packages (from pydantic!=1.8,!=1.8.1,!=2.0.0,!=2.0.1,!=2.1.0,<3.0.0,>=1.7.4->fastapi) (0.7.0)\n",
      "Requirement already satisfied: pydantic-core==2.27.2 in /root/.pyenv/versions/3.10.6/envs/MEGA_project/lib/python3.10/site-packages (from pydantic!=1.8,!=1.8.1,!=2.0.0,!=2.0.1,!=2.1.0,<3.0.0,>=1.7.4->fastapi) (2.27.2)\n",
      "Requirement already satisfied: anyio<5,>=3.6.2 in /root/.pyenv/versions/3.10.6/envs/MEGA_project/lib/python3.10/site-packages (from starlette<0.47.0,>=0.40.0->fastapi) (4.8.0)\n",
      "Requirement already satisfied: exceptiongroup>=1.0.2 in /root/.pyenv/versions/3.10.6/envs/MEGA_project/lib/python3.10/site-packages (from anyio<5,>=3.6.2->starlette<0.47.0,>=0.40.0->fastapi) (1.2.2)\n",
      "Requirement already satisfied: idna>=2.8 in /root/.pyenv/versions/3.10.6/envs/MEGA_project/lib/python3.10/site-packages (from anyio<5,>=3.6.2->starlette<0.47.0,>=0.40.0->fastapi) (3.10)\n",
      "Requirement already satisfied: sniffio>=1.1 in /root/.pyenv/versions/3.10.6/envs/MEGA_project/lib/python3.10/site-packages (from anyio<5,>=3.6.2->starlette<0.47.0,>=0.40.0->fastapi) (1.3.1)\n",
      "Requirement already satisfied: typing_extensions in /root/.pyenv/versions/3.10.6/envs/MEGA_project/lib/python3.10/site-packages (4.12.2)\n",
      "Requirement already satisfied: tensorflow in /root/.pyenv/versions/3.10.6/envs/MEGA_project/lib/python3.10/site-packages (2.19.0)\n",
      "Requirement already satisfied: absl-py>=1.0.0 in /root/.pyenv/versions/3.10.6/envs/MEGA_project/lib/python3.10/site-packages (from tensorflow) (2.1.0)\n",
      "Requirement already satisfied: astunparse>=1.6.0 in /root/.pyenv/versions/3.10.6/envs/MEGA_project/lib/python3.10/site-packages (from tensorflow) (1.6.3)\n",
      "Requirement already satisfied: flatbuffers>=24.3.25 in /root/.pyenv/versions/3.10.6/envs/MEGA_project/lib/python3.10/site-packages (from tensorflow) (25.2.10)\n",
      "Requirement already satisfied: gast!=0.5.0,!=0.5.1,!=0.5.2,>=0.2.1 in /root/.pyenv/versions/3.10.6/envs/MEGA_project/lib/python3.10/site-packages (from tensorflow) (0.6.0)\n",
      "Requirement already satisfied: google-pasta>=0.1.1 in /root/.pyenv/versions/3.10.6/envs/MEGA_project/lib/python3.10/site-packages (from tensorflow) (0.2.0)\n",
      "Requirement already satisfied: libclang>=13.0.0 in /root/.pyenv/versions/3.10.6/envs/MEGA_project/lib/python3.10/site-packages (from tensorflow) (18.1.1)\n",
      "Requirement already satisfied: opt-einsum>=2.3.2 in /root/.pyenv/versions/3.10.6/envs/MEGA_project/lib/python3.10/site-packages (from tensorflow) (3.4.0)\n",
      "Requirement already satisfied: packaging in /root/.pyenv/versions/3.10.6/envs/MEGA_project/lib/python3.10/site-packages (from tensorflow) (24.2)\n",
      "Requirement already satisfied: protobuf!=4.21.0,!=4.21.1,!=4.21.2,!=4.21.3,!=4.21.4,!=4.21.5,<6.0.0dev,>=3.20.3 in /root/.pyenv/versions/3.10.6/envs/MEGA_project/lib/python3.10/site-packages (from tensorflow) (5.29.3)\n",
      "Requirement already satisfied: requests<3,>=2.21.0 in /root/.pyenv/versions/3.10.6/envs/MEGA_project/lib/python3.10/site-packages (from tensorflow) (2.32.3)\n",
      "Requirement already satisfied: setuptools in /root/.pyenv/versions/3.10.6/envs/MEGA_project/lib/python3.10/site-packages (from tensorflow) (63.2.0)\n",
      "Requirement already satisfied: six>=1.12.0 in /root/.pyenv/versions/3.10.6/envs/MEGA_project/lib/python3.10/site-packages (from tensorflow) (1.17.0)\n",
      "Requirement already satisfied: termcolor>=1.1.0 in /root/.pyenv/versions/3.10.6/envs/MEGA_project/lib/python3.10/site-packages (from tensorflow) (2.5.0)\n",
      "Requirement already satisfied: typing-extensions>=3.6.6 in /root/.pyenv/versions/3.10.6/envs/MEGA_project/lib/python3.10/site-packages (from tensorflow) (4.12.2)\n",
      "Requirement already satisfied: wrapt>=1.11.0 in /root/.pyenv/versions/3.10.6/envs/MEGA_project/lib/python3.10/site-packages (from tensorflow) (1.17.2)\n",
      "Requirement already satisfied: grpcio<2.0,>=1.24.3 in /root/.pyenv/versions/3.10.6/envs/MEGA_project/lib/python3.10/site-packages (from tensorflow) (1.71.0)\n",
      "Requirement already satisfied: tensorboard~=2.19.0 in /root/.pyenv/versions/3.10.6/envs/MEGA_project/lib/python3.10/site-packages (from tensorflow) (2.19.0)\n",
      "Requirement already satisfied: keras>=3.5.0 in /root/.pyenv/versions/3.10.6/envs/MEGA_project/lib/python3.10/site-packages (from tensorflow) (3.9.0)\n",
      "Requirement already satisfied: numpy<2.2.0,>=1.26.0 in /root/.pyenv/versions/3.10.6/envs/MEGA_project/lib/python3.10/site-packages (from tensorflow) (2.1.3)\n",
      "Requirement already satisfied: h5py>=3.11.0 in /root/.pyenv/versions/3.10.6/envs/MEGA_project/lib/python3.10/site-packages (from tensorflow) (3.13.0)\n",
      "Requirement already satisfied: ml-dtypes<1.0.0,>=0.5.1 in /root/.pyenv/versions/3.10.6/envs/MEGA_project/lib/python3.10/site-packages (from tensorflow) (0.5.1)\n",
      "Requirement already satisfied: tensorflow-io-gcs-filesystem>=0.23.1 in /root/.pyenv/versions/3.10.6/envs/MEGA_project/lib/python3.10/site-packages (from tensorflow) (0.37.1)\n",
      "Requirement already satisfied: wheel<1.0,>=0.23.0 in /root/.pyenv/versions/3.10.6/envs/MEGA_project/lib/python3.10/site-packages (from astunparse>=1.6.0->tensorflow) (0.45.1)\n",
      "Requirement already satisfied: rich in /root/.pyenv/versions/3.10.6/envs/MEGA_project/lib/python3.10/site-packages (from keras>=3.5.0->tensorflow) (13.9.4)\n",
      "Requirement already satisfied: namex in /root/.pyenv/versions/3.10.6/envs/MEGA_project/lib/python3.10/site-packages (from keras>=3.5.0->tensorflow) (0.0.8)\n",
      "Requirement already satisfied: optree in /root/.pyenv/versions/3.10.6/envs/MEGA_project/lib/python3.10/site-packages (from keras>=3.5.0->tensorflow) (0.14.1)\n",
      "Requirement already satisfied: charset-normalizer<4,>=2 in /root/.pyenv/versions/3.10.6/envs/MEGA_project/lib/python3.10/site-packages (from requests<3,>=2.21.0->tensorflow) (3.4.1)\n",
      "Requirement already satisfied: idna<4,>=2.5 in /root/.pyenv/versions/3.10.6/envs/MEGA_project/lib/python3.10/site-packages (from requests<3,>=2.21.0->tensorflow) (3.10)\n",
      "Requirement already satisfied: urllib3<3,>=1.21.1 in /root/.pyenv/versions/3.10.6/envs/MEGA_project/lib/python3.10/site-packages (from requests<3,>=2.21.0->tensorflow) (2.3.0)\n",
      "Requirement already satisfied: certifi>=2017.4.17 in /root/.pyenv/versions/3.10.6/envs/MEGA_project/lib/python3.10/site-packages (from requests<3,>=2.21.0->tensorflow) (2025.1.31)\n",
      "Requirement already satisfied: markdown>=2.6.8 in /root/.pyenv/versions/3.10.6/envs/MEGA_project/lib/python3.10/site-packages (from tensorboard~=2.19.0->tensorflow) (3.7)\n",
      "Requirement already satisfied: tensorboard-data-server<0.8.0,>=0.7.0 in /root/.pyenv/versions/3.10.6/envs/MEGA_project/lib/python3.10/site-packages (from tensorboard~=2.19.0->tensorflow) (0.7.2)\n",
      "Requirement already satisfied: werkzeug>=1.0.1 in /root/.pyenv/versions/3.10.6/envs/MEGA_project/lib/python3.10/site-packages (from tensorboard~=2.19.0->tensorflow) (3.1.3)\n",
      "Requirement already satisfied: MarkupSafe>=2.1.1 in /root/.pyenv/versions/3.10.6/envs/MEGA_project/lib/python3.10/site-packages (from werkzeug>=1.0.1->tensorboard~=2.19.0->tensorflow) (3.0.2)\n",
      "Requirement already satisfied: markdown-it-py>=2.2.0 in /root/.pyenv/versions/3.10.6/envs/MEGA_project/lib/python3.10/site-packages (from rich->keras>=3.5.0->tensorflow) (3.0.0)\n",
      "Requirement already satisfied: pygments<3.0.0,>=2.13.0 in /root/.pyenv/versions/3.10.6/envs/MEGA_project/lib/python3.10/site-packages (from rich->keras>=3.5.0->tensorflow) (2.19.1)\n",
      "Requirement already satisfied: mdurl~=0.1 in /root/.pyenv/versions/3.10.6/envs/MEGA_project/lib/python3.10/site-packages (from markdown-it-py>=2.2.0->rich->keras>=3.5.0->tensorflow) (0.1.2)\n",
      "Requirement already satisfied: scikeras in /root/.pyenv/versions/3.10.6/envs/MEGA_project/lib/python3.10/site-packages (0.13.0)\n",
      "Requirement already satisfied: keras>=3.2.0 in /root/.pyenv/versions/3.10.6/envs/MEGA_project/lib/python3.10/site-packages (from scikeras) (3.9.0)\n",
      "Requirement already satisfied: scikit-learn>=1.4.2 in /root/.pyenv/versions/3.10.6/envs/MEGA_project/lib/python3.10/site-packages (from scikeras) (1.6.1)\n",
      "Requirement already satisfied: absl-py in /root/.pyenv/versions/3.10.6/envs/MEGA_project/lib/python3.10/site-packages (from keras>=3.2.0->scikeras) (2.1.0)\n",
      "Requirement already satisfied: numpy in /root/.pyenv/versions/3.10.6/envs/MEGA_project/lib/python3.10/site-packages (from keras>=3.2.0->scikeras) (2.1.3)\n",
      "Requirement already satisfied: rich in /root/.pyenv/versions/3.10.6/envs/MEGA_project/lib/python3.10/site-packages (from keras>=3.2.0->scikeras) (13.9.4)\n",
      "Requirement already satisfied: namex in /root/.pyenv/versions/3.10.6/envs/MEGA_project/lib/python3.10/site-packages (from keras>=3.2.0->scikeras) (0.0.8)\n",
      "Requirement already satisfied: h5py in /root/.pyenv/versions/3.10.6/envs/MEGA_project/lib/python3.10/site-packages (from keras>=3.2.0->scikeras) (3.13.0)\n",
      "Requirement already satisfied: optree in /root/.pyenv/versions/3.10.6/envs/MEGA_project/lib/python3.10/site-packages (from keras>=3.2.0->scikeras) (0.14.1)\n",
      "Requirement already satisfied: ml-dtypes in /root/.pyenv/versions/3.10.6/envs/MEGA_project/lib/python3.10/site-packages (from keras>=3.2.0->scikeras) (0.5.1)\n",
      "Requirement already satisfied: packaging in /root/.pyenv/versions/3.10.6/envs/MEGA_project/lib/python3.10/site-packages (from keras>=3.2.0->scikeras) (24.2)\n",
      "Requirement already satisfied: scipy>=1.6.0 in /root/.pyenv/versions/3.10.6/envs/MEGA_project/lib/python3.10/site-packages (from scikit-learn>=1.4.2->scikeras) (1.15.2)\n",
      "Requirement already satisfied: joblib>=1.2.0 in /root/.pyenv/versions/3.10.6/envs/MEGA_project/lib/python3.10/site-packages (from scikit-learn>=1.4.2->scikeras) (1.4.2)\n",
      "Requirement already satisfied: threadpoolctl>=3.1.0 in /root/.pyenv/versions/3.10.6/envs/MEGA_project/lib/python3.10/site-packages (from scikit-learn>=1.4.2->scikeras) (3.6.0)\n",
      "Requirement already satisfied: typing-extensions>=4.5.0 in /root/.pyenv/versions/3.10.6/envs/MEGA_project/lib/python3.10/site-packages (from optree->keras>=3.2.0->scikeras) (4.12.2)\n",
      "Requirement already satisfied: markdown-it-py>=2.2.0 in /root/.pyenv/versions/3.10.6/envs/MEGA_project/lib/python3.10/site-packages (from rich->keras>=3.2.0->scikeras) (3.0.0)\n",
      "Requirement already satisfied: pygments<3.0.0,>=2.13.0 in /root/.pyenv/versions/3.10.6/envs/MEGA_project/lib/python3.10/site-packages (from rich->keras>=3.2.0->scikeras) (2.19.1)\n",
      "Requirement already satisfied: mdurl~=0.1 in /root/.pyenv/versions/3.10.6/envs/MEGA_project/lib/python3.10/site-packages (from markdown-it-py>=2.2.0->rich->keras>=3.2.0->scikeras) (0.1.2)\n"
     ]
    }
   ],
   "source": [
    "# Installing faspapi unicorn\n",
    "!pip install fastapi uvicorn\n",
    "!pip install --upgrade typing_extensions\n",
    "!pip install tensorflow\n",
    "!pip install scikeras"
   ]
  },
  {
   "cell_type": "markdown",
   "metadata": {},
   "source": [
    "## 1. Extract hourly carbon intensity and elecricity sources data from Electricity Maps API"
   ]
  },
  {
   "cell_type": "code",
   "execution_count": 194,
   "metadata": {},
   "outputs": [
    {
     "name": "stdout",
     "output_type": "stream",
     "text": [
      "Total carbon intensity data shape: (1440, 3)\n"
     ]
    }
   ],
   "source": [
    "\"\"\"\n",
    "get extended carbon intensity data (15 jan 2025 to 15 mar 2025) by querying consecutive 24-hour windows\n",
    "- loops over the overall period (15 jan to 15 mar 2025), making separate API calls for each 24-hour interval.\n",
    "- concatenates the results into a single dataframe.\n",
    "- drops unwanted columns.\n",
    "\"\"\"\n",
    "\n",
    "def get_carbon_intensity_history(start_str, end_str, zone=\"DE\", resolution=\"hour\"):\n",
    "    base_url = \"https://api.electricitymap.org/v3/carbon-intensity/history\"\n",
    "    url = f\"{base_url}?zone={zone}&start={start_str}&end={end_str}&resolution={resolution}\"\n",
    "    response = requests.get(url, headers={\"auth-token\": \"covOsi4VsXc8mIdsxumr\"})\n",
    "    data = response.json()\n",
    "    return pd.DataFrame(data.get(\"history\", []))\n",
    "\n",
    "# Define the overall period: from 15 January 2025 00:00:00.000Z to 15 March 2025 (full day)\n",
    "overall_start = datetime.strptime(\"2025-01-15T00:00:00.000Z\", \"%Y-%m-%dT%H:%M:%S.%fZ\")\n",
    "# To include all of 15 March, we set the end time to 16 March 2025 00:00:00.000Z\n",
    "overall_end   = datetime.strptime(\"2025-03-16T00:00:00.000Z\", \"%Y-%m-%dT%H:%M:%S.%fZ\")\n",
    "\n",
    "dfs = []\n",
    "current_start = overall_start\n",
    "\n",
    "while current_start < overall_end:\n",
    "    current_end = current_start + timedelta(hours=24)\n",
    "    if current_end > overall_end:\n",
    "        current_end = overall_end\n",
    "    # Format dates in the required ISO format with milliseconds\n",
    "    start_str = current_start.strftime(\"%Y-%m-%dT%H:%M:%S.%fZ\")\n",
    "    end_str = current_end.strftime(\"%Y-%m-%dT%H:%M:%S.%fZ\")\n",
    "    df_temp = get_carbon_intensity_history(start_str, end_str)\n",
    "    dfs.append(df_temp)\n",
    "    current_start = current_end\n",
    "\n",
    "df_de_carbon_intensity = pd.concat(dfs, ignore_index=True)\n",
    "\n",
    "# Drop unwanted columns\n",
    "unwanted_cols = [\"updatedAt\", \"createdAt\", \"emissionFactorType\", \"isEstimated\", \"estimationMethod\"]\n",
    "df_de_carbon_intensity = df_de_carbon_intensity.drop(columns=unwanted_cols, errors=\"ignore\")\n",
    "\n",
    "print(\"Total carbon intensity data shape:\", df_de_carbon_intensity.shape)\n"
   ]
  },
  {
   "cell_type": "code",
   "execution_count": 195,
   "metadata": {},
   "outputs": [
    {
     "name": "stdout",
     "output_type": "stream",
     "text": [
      "electricity sources data shape: (1440, 10)\n"
     ]
    }
   ],
   "source": [
    "\"\"\"\n",
    "get extended electricity sources data (15 jan 2025 to 15 mar 2025) by querying consecutive 24-hour windows\n",
    "- loops over the overall period (15 jan to 15 mar 2025), making separate API calls for each 24-hour interval.\n",
    "- concatenates the results into a single dataframe.\n",
    "- drops unwanted columns: updatedAt, createdAt.\n",
    "- assigns the result to df_de_electricity_sources.\n",
    "\"\"\"\n",
    "\n",
    "def get_power_breakdown_history(start_str, end_str, zone=\"DE\", resolution=\"hour\"):\n",
    "    base_url = \"https://api.electricitymap.org/v3/power-breakdown/history\"\n",
    "    url = f\"{base_url}?zone={zone}&start={start_str}&end={end_str}&resolution={resolution}\"\n",
    "    response = requests.get(url, headers={\"auth-token\": \"covOsi4VsXc8mIdsxumr\"})\n",
    "    data = response.json()\n",
    "    # flatten the nested json\n",
    "    df = pd.json_normalize(data.get(\"history\", []))\n",
    "    return df\n",
    "\n",
    "# overall period: 15 jan 2025 00:00:00.000z to include full day 15 mar 2025, set end to 16 mar 2025 00:00:00.000z\n",
    "overall_start = datetime.strptime(\"2025-01-15T00:00:00.000Z\", \"%Y-%m-%dT%H:%M:%S.%fZ\")\n",
    "overall_end   = datetime.strptime(\"2025-03-16T00:00:00.000Z\", \"%Y-%m-%dT%H:%M:%S.%fZ\")\n",
    "\n",
    "dfs = []\n",
    "current_start = overall_start\n",
    "while current_start < overall_end:\n",
    "    current_end = current_start + timedelta(hours=24)\n",
    "    if current_end > overall_end:\n",
    "        current_end = overall_end\n",
    "    start_str = current_start.strftime(\"%Y-%m-%dT%H:%M:%S.%fZ\")\n",
    "    end_str = current_end.strftime(\"%Y-%m-%dT%H:%M:%S.%fZ\")\n",
    "    df_temp = get_power_breakdown_history(start_str, end_str)\n",
    "    dfs.append(df_temp)\n",
    "    current_start = current_end\n",
    "\n",
    "df_full_power = pd.concat(dfs, ignore_index=True)\n",
    "# select only the desired keys from powerConsumptionBreakdown\n",
    "e_consumption_types = [\n",
    "    \"powerConsumptionBreakdown.nuclear\",\n",
    "    \"powerConsumptionBreakdown.geothermal\",\n",
    "    \"powerConsumptionBreakdown.biomass\",\n",
    "    \"powerConsumptionBreakdown.coal\",\n",
    "    \"powerConsumptionBreakdown.wind\",\n",
    "    \"powerConsumptionBreakdown.solar\",\n",
    "    \"powerConsumptionBreakdown.hydro\",\n",
    "    \"powerConsumptionBreakdown.gas\",\n",
    "    \"powerConsumptionBreakdown.oil\"\n",
    "]\n",
    "# keep datetime and desired keys only\n",
    "df_de_electricity_sources = df_full_power[[\"datetime\"] + e_consumption_types].copy()\n",
    "\n",
    "print(\"electricity sources data shape:\", df_de_electricity_sources.shape)"
   ]
  },
  {
   "cell_type": "markdown",
   "metadata": {},
   "source": [
    "## 2. Merge datasets on datetime (time-consistency)"
   ]
  },
  {
   "cell_type": "code",
   "execution_count": 2,
   "metadata": {},
   "outputs": [
    {
     "ename": "NameError",
     "evalue": "name 'df_de_carbon_intensity' is not defined",
     "output_type": "error",
     "traceback": [
      "\u001b[0;31m---------------------------------------------------------------------------\u001b[0m",
      "\u001b[0;31mNameError\u001b[0m                                 Traceback (most recent call last)",
      "Cell \u001b[0;32mIn[2], line 8\u001b[0m\n\u001b[1;32m      1\u001b[0m \u001b[38;5;124;03m\"\"\"\u001b[39;00m\n\u001b[1;32m      2\u001b[0m \u001b[38;5;124;03mmerge datasets & export csv\u001b[39;00m\n\u001b[1;32m      3\u001b[0m \u001b[38;5;124;03m- merges df_de_carbon_intensity and df_de_electricity_sources on 'datetime'.\u001b[39;00m\n\u001b[1;32m      4\u001b[0m \u001b[38;5;124;03m- exports the merged dataframe to a csv file.\u001b[39;00m\n\u001b[1;32m      5\u001b[0m \u001b[38;5;124;03m\"\"\"\u001b[39;00m\n\u001b[1;32m      7\u001b[0m \u001b[38;5;66;03m# merge the two dataframes on datetime (inner join)\u001b[39;00m\n\u001b[0;32m----> 8\u001b[0m df_de_merged \u001b[38;5;241m=\u001b[39m pd\u001b[38;5;241m.\u001b[39mmerge(\u001b[43mdf_de_carbon_intensity\u001b[49m, df_de_electricity_sources, on\u001b[38;5;241m=\u001b[39m\u001b[38;5;124m\"\u001b[39m\u001b[38;5;124mdatetime\u001b[39m\u001b[38;5;124m\"\u001b[39m, suffixes\u001b[38;5;241m=\u001b[39m(\u001b[38;5;124m\"\u001b[39m\u001b[38;5;124m_carbon\u001b[39m\u001b[38;5;124m\"\u001b[39m, \u001b[38;5;124m\"\u001b[39m\u001b[38;5;124m_electricity\u001b[39m\u001b[38;5;124m\"\u001b[39m))\n\u001b[1;32m     10\u001b[0m \u001b[38;5;66;03m# export merged dataframe to csv\u001b[39;00m\n\u001b[1;32m     11\u001b[0m df_de_merged\u001b[38;5;241m.\u001b[39mto_csv(\u001b[38;5;124m\"\u001b[39m\u001b[38;5;124mdf_de_merged.csv\u001b[39m\u001b[38;5;124m\"\u001b[39m, index\u001b[38;5;241m=\u001b[39m\u001b[38;5;28;01mFalse\u001b[39;00m)\n",
      "\u001b[0;31mNameError\u001b[0m: name 'df_de_carbon_intensity' is not defined"
     ]
    }
   ],
   "source": [
    "\"\"\"\n",
    "merge datasets & export csv\n",
    "- merges df_de_carbon_intensity and df_de_electricity_sources on 'datetime'.\n",
    "- exports the merged dataframe to a csv file.\n",
    "\"\"\"\n",
    "\n",
    "# merge the two dataframes on datetime (inner join)\n",
    "df_de_merged = pd.merge(df_de_carbon_intensity, df_de_electricity_sources, on=\"datetime\", suffixes=(\"_carbon\", \"_electricity\"))\n",
    "\n",
    "# export merged dataframe to csv\n",
    "df_de_merged.to_csv(\"df_de_merged.csv\", index=False)\n",
    "print(\"merged data exported to 'df_de_merged.csv'\")\n"
   ]
  },
  {
   "cell_type": "markdown",
   "metadata": {},
   "source": [
    "## 3. Basic info"
   ]
  },
  {
   "cell_type": "code",
   "execution_count": 3,
   "metadata": {},
   "outputs": [
    {
     "name": "stdout",
     "output_type": "stream",
     "text": [
      "shape: (86400, 12)\n",
      "columns: ['zone', 'carbonIntensity', 'datetime', 'powerConsumptionBreakdown.nuclear', 'powerConsumptionBreakdown.geothermal', 'powerConsumptionBreakdown.biomass', 'powerConsumptionBreakdown.coal', 'powerConsumptionBreakdown.wind', 'powerConsumptionBreakdown.solar', 'powerConsumptionBreakdown.hydro', 'powerConsumptionBreakdown.gas', 'powerConsumptionBreakdown.oil']\n",
      "df_de_merged data types:\n",
      "zone                                    object\n",
      "carbonIntensity                          int64\n",
      "datetime                                object\n",
      "powerConsumptionBreakdown.nuclear        int64\n",
      "powerConsumptionBreakdown.geothermal     int64\n",
      "powerConsumptionBreakdown.biomass        int64\n",
      "powerConsumptionBreakdown.coal           int64\n",
      "powerConsumptionBreakdown.wind           int64\n",
      "powerConsumptionBreakdown.solar          int64\n",
      "powerConsumptionBreakdown.hydro          int64\n",
      "powerConsumptionBreakdown.gas            int64\n",
      "powerConsumptionBreakdown.oil            int64\n",
      "dtype: object\n"
     ]
    }
   ],
   "source": [
    "\"\"\"\n",
    "basic info\n",
    "- prints basic characteristics of the merged dataset.\n",
    "\"\"\"\n",
    "df_de_merged = pd.read_csv(\"/root/code/senetan/MEGA_project/raw_data/df_de_merged.csv\")\n",
    "\n",
    "print(\"shape:\", df_de_merged.shape)\n",
    "print(\"columns:\", df_de_merged.columns.tolist())\n",
    "print(\"df_de_merged data types:\")\n",
    "print(df_de_merged.dtypes)\n"
   ]
  },
  {
   "cell_type": "code",
   "execution_count": 4,
   "metadata": {},
   "outputs": [
    {
     "name": "stdout",
     "output_type": "stream",
     "text": [
      "zone                                    0\n",
      "carbonIntensity                         0\n",
      "datetime                                0\n",
      "powerConsumptionBreakdown.nuclear       0\n",
      "powerConsumptionBreakdown.geothermal    0\n",
      "powerConsumptionBreakdown.biomass       0\n",
      "powerConsumptionBreakdown.coal          0\n",
      "powerConsumptionBreakdown.wind          0\n",
      "powerConsumptionBreakdown.solar         0\n",
      "powerConsumptionBreakdown.hydro         0\n",
      "powerConsumptionBreakdown.gas           0\n",
      "powerConsumptionBreakdown.oil           0\n",
      "dtype: int64\n"
     ]
    }
   ],
   "source": [
    "nan_counts = df_de_merged.isnull().sum()\n",
    "print(nan_counts)"
   ]
  },
  {
   "cell_type": "code",
   "execution_count": 5,
   "metadata": {},
   "outputs": [],
   "source": [
    "\"\"\"\n",
    "ensures that df_de_merged is sorted in ascending order by 'datetime'\n",
    "\"\"\"\n",
    "\n",
    "# ensure the datetime column is in datetime format\n",
    "df_de_merged['datetime'] = pd.to_datetime(df_de_merged['datetime'])\n",
    "\n",
    "# sort the dataframe chronologically and reset the index\n",
    "df_de_merged = df_de_merged.sort_values(by='datetime', ascending=True).reset_index(drop=True)\n",
    "\n",
    "#print(\"df_de_merged sorted in chronological order:\")\n",
    "#print(df_de_merged.head())\n"
   ]
  },
  {
   "cell_type": "markdown",
   "metadata": {},
   "source": [
    "## 4. Feature preprocessing"
   ]
  },
  {
   "cell_type": "code",
   "execution_count": 6,
   "metadata": {},
   "outputs": [
    {
     "name": "stdout",
     "output_type": "stream",
     "text": [
      "compressed dtypes:\n",
      "zone                                                 object\n",
      "carbonIntensity                                       int16\n",
      "datetime                                datetime64[ns, UTC]\n",
      "powerConsumptionBreakdown.nuclear                     int16\n",
      "powerConsumptionBreakdown.geothermal                   int8\n",
      "powerConsumptionBreakdown.biomass                     int16\n",
      "powerConsumptionBreakdown.coal                        int16\n",
      "powerConsumptionBreakdown.wind                        int16\n",
      "powerConsumptionBreakdown.solar                       int16\n",
      "powerConsumptionBreakdown.hydro                       int16\n",
      "powerConsumptionBreakdown.gas                         int16\n",
      "powerConsumptionBreakdown.oil                         int16\n",
      "dtype: object\n"
     ]
    }
   ],
   "source": [
    "\n",
    "\"\"\"\n",
    "compress df_de_merged\n",
    "- downcasts numeric columns (int64/float64) to lower memory types, except datetime columns.\n",
    "\"\"\"\n",
    "\n",
    "def compress_df(df):\n",
    "    df_compressed = df.copy()\n",
    "    for col in df_compressed.columns:\n",
    "        # skip datetime columns\n",
    "        if pd.api.types.is_datetime64_any_dtype(df_compressed[col]):\n",
    "            continue\n",
    "        if pd.api.types.is_numeric_dtype(df_compressed[col]):\n",
    "            if pd.api.types.is_integer_dtype(df_compressed[col]):\n",
    "                df_compressed[col] = pd.to_numeric(df_compressed[col], downcast='integer')\n",
    "            elif pd.api.types.is_float_dtype(df_compressed[col]):\n",
    "                df_compressed[col] = pd.to_numeric(df_compressed[col], downcast='float')\n",
    "    return df_compressed\n",
    "\n",
    "df_de_merged = compress_df(df_de_merged)\n",
    "print(\"compressed dtypes:\")\n",
    "print(df_de_merged.dtypes)\n"
   ]
  },
  {
   "cell_type": "code",
   "execution_count": 7,
   "metadata": {},
   "outputs": [
    {
     "name": "stdout",
     "output_type": "stream",
     "text": [
      "preprocessed features shape: (86400, 44)\n"
     ]
    }
   ],
   "source": [
    "\"\"\"\n",
    "cell: feature extraction and normalization (stateless preprocessor)\n",
    "- extracts time features (cyclical and one-hot encoded),\n",
    "- extracts energy features,\n",
    "- computes relative percentages for energy sources (each divided by the row sum),\n",
    "- returns a fixed-order dataframe.\n",
    "\"\"\"\n",
    "\n",
    "def extract_time_energy_features(x):\n",
    "    x = x.copy()\n",
    "    # time features\n",
    "    x['datetime'] = pd.to_datetime(x['datetime'])\n",
    "    x['hour'] = x['datetime'].dt.hour\n",
    "    x['weekday'] = x['datetime'].dt.weekday\n",
    "    x['hour_sin'] = np.sin(2 * np.pi * x['hour'] / 24)\n",
    "    x['hour_cos'] = np.cos(2 * np.pi * x['hour'] / 24)\n",
    "    x['weekday_sin'] = np.sin(2 * np.pi * x['weekday'] / 7)\n",
    "    x['weekday_cos'] = np.cos(2 * np.pi * x['weekday'] / 7)\n",
    "    # one-hot encoding for time\n",
    "    hour_dummies = pd.get_dummies(x['hour'], prefix='hour')\n",
    "    weekday_dummies = pd.get_dummies(x['weekday'], prefix='weekday')\n",
    "    expected_hour_cols = [f'hour_{i}' for i in range(24)]\n",
    "    expected_weekday_cols = [f'weekday_{i}' for i in range(7)]\n",
    "    hour_dummies = hour_dummies.reindex(columns=expected_hour_cols, fill_value=0)\n",
    "    weekday_dummies = weekday_dummies.reindex(columns=expected_weekday_cols, fill_value=0)\n",
    "    time_order = ['hour_sin', 'hour_cos', 'weekday_sin', 'weekday_cos'] + expected_hour_cols + expected_weekday_cols\n",
    "    time_features = pd.concat([x[['hour_sin','hour_cos','weekday_sin','weekday_cos']], hour_dummies, weekday_dummies], axis=1)\n",
    "    time_features = time_features[time_order]\n",
    "\n",
    "    # energy features: from df_de_electricity_sources, keys assumed to be in x\n",
    "    energy_cols = [\n",
    "        \"powerConsumptionBreakdown.nuclear\",\n",
    "        \"powerConsumptionBreakdown.geothermal\",\n",
    "        \"powerConsumptionBreakdown.biomass\",\n",
    "        \"powerConsumptionBreakdown.coal\",\n",
    "        \"powerConsumptionBreakdown.wind\",\n",
    "        \"powerConsumptionBreakdown.solar\",\n",
    "        \"powerConsumptionBreakdown.hydro\",\n",
    "        \"powerConsumptionBreakdown.gas\",\n",
    "        \"powerConsumptionBreakdown.oil\"\n",
    "    ]\n",
    "    energy_features = x[energy_cols].copy()\n",
    "    # compute the row-wise sum for energy sources\n",
    "    energy_sum = energy_features.sum(axis=1).replace(0, np.nan)\n",
    "    # compute relative percentage (0 to 1)\n",
    "    energy_relative = energy_features.div(energy_sum, axis=0).fillna(0)\n",
    "\n",
    "    final_order = time_order + energy_cols\n",
    "    final_features = pd.concat([time_features, energy_relative], axis=1)\n",
    "    final_features = final_features[final_order]\n",
    "    return final_features\n",
    "\n",
    "# pure transformer without state using function transformer\n",
    "feature_transformer = FunctionTransformer(extract_time_energy_features, validate=False)\n",
    "\n",
    "# build pipeline (stateless preprocessor)\n",
    "features_pipeline = Pipeline([\n",
    "    ('feature_extraction_and_normalization', feature_transformer)\n",
    "])\n",
    "\n",
    "# test on the merged dataframe (df_de_merged should have both 'datetime' and energy columns)\n",
    "df_processed = features_pipeline.transform(df_de_merged)\n",
    "print(\"preprocessed features shape:\", df_processed.shape)\n"
   ]
  },
  {
   "cell_type": "markdown",
   "metadata": {},
   "source": [
    "## 5. Train test split"
   ]
  },
  {
   "cell_type": "code",
   "execution_count": 8,
   "metadata": {},
   "outputs": [
    {
     "name": "stdout",
     "output_type": "stream",
     "text": [
      "train shape: (55296, 12)\n",
      "validation shape: (13824, 12)\n",
      "test shape: (17280, 12)\n"
     ]
    }
   ],
   "source": [
    "# Chronological split\n",
    "split_ratio = 0.20\n",
    "test_length = int(len(df_de_merged) * split_ratio)\n",
    "val_length = int((len(df_de_merged) - test_length) * split_ratio)\n",
    "train_length = len(df_de_merged) - val_length - test_length\n",
    "\n",
    "df_train = df_de_merged.iloc[:train_length, :].copy()\n",
    "df_val   = df_de_merged.iloc[train_length: train_length + val_length, :].copy()\n",
    "df_test  = df_de_merged.iloc[train_length + val_length:, :].copy()\n",
    "\n",
    "print(\"train shape:\", df_train.shape)\n",
    "print(\"validation shape:\", df_val.shape)\n",
    "print(\"test shape:\", df_test.shape)\n",
    "\n",
    "# Define target variables\n",
    "y_train = df_train['carbonIntensity']\n",
    "y_val   = df_val['carbonIntensity']\n",
    "y_test  = df_test['carbonIntensity']\n"
   ]
  },
  {
   "cell_type": "code",
   "execution_count": 9,
   "metadata": {},
   "outputs": [
    {
     "name": "stdout",
     "output_type": "stream",
     "text": [
      "processed feature shapes:\n",
      "X_train_processed: (55296, 44)\n",
      "X_val_processed: (13824, 44)\n",
      "X_test_processed: (17280, 44)\n"
     ]
    }
   ],
   "source": [
    "# define target scaler and transform target variables\n",
    "target_scaler = MinMaxScaler()\n",
    "y_train_scaled = target_scaler.fit_transform(y_train.values.reshape(-1, 1))\n",
    "y_val_scaled   = target_scaler.transform(y_val.values.reshape(-1, 1))\n",
    "y_test_scaled  = target_scaler.transform(y_test.values.reshape(-1, 1))\n",
    "\n",
    "# preprocess the data splits using the state-less features pipeline\n",
    "X_train_processed = features_pipeline.transform(df_train)\n",
    "X_val_processed = features_pipeline.transform(df_val)\n",
    "X_test_processed = features_pipeline.transform(df_test)\n",
    "\n",
    "print(\"processed feature shapes:\")\n",
    "print(\"X_train_processed:\", X_train_processed.shape)\n",
    "print(\"X_val_processed:\", X_val_processed.shape)\n",
    "print(\"X_test_processed:\", X_test_processed.shape)\n"
   ]
  },
  {
   "cell_type": "markdown",
   "metadata": {},
   "source": [
    "## 6. Build and train the model"
   ]
  },
  {
   "cell_type": "code",
   "execution_count": 10,
   "metadata": {},
   "outputs": [
    {
     "name": "stdout",
     "output_type": "stream",
     "text": [
      "✅ model initialized\n"
     ]
    },
    {
     "name": "stderr",
     "output_type": "stream",
     "text": [
      "2025-03-21 16:06:32.944771: E external/local_xla/xla/stream_executor/cuda/cuda_platform.cc:51] failed call to cuInit: INTERNAL: CUDA error: Failed call to cuInit: UNKNOWN ERROR (303)\n"
     ]
    },
    {
     "data": {
      "text/html": [
       "<pre style=\"white-space:pre;overflow-x:auto;line-height:normal;font-family:Menlo,'DejaVu Sans Mono',consolas,'Courier New',monospace\"><span style=\"font-weight: bold\">Model: \"sequential\"</span>\n",
       "</pre>\n"
      ],
      "text/plain": [
       "\u001b[1mModel: \"sequential\"\u001b[0m\n"
      ]
     },
     "metadata": {},
     "output_type": "display_data"
    },
    {
     "data": {
      "text/html": [
       "<pre style=\"white-space:pre;overflow-x:auto;line-height:normal;font-family:Menlo,'DejaVu Sans Mono',consolas,'Courier New',monospace\">┏━━━━━━━━━━━━━━━━━━━━━━━━━━━━━━━━━┳━━━━━━━━━━━━━━━━━━━━━━━━┳━━━━━━━━━━━━━━━┓\n",
       "┃<span style=\"font-weight: bold\"> Layer (type)                    </span>┃<span style=\"font-weight: bold\"> Output Shape           </span>┃<span style=\"font-weight: bold\">       Param # </span>┃\n",
       "┡━━━━━━━━━━━━━━━━━━━━━━━━━━━━━━━━━╇━━━━━━━━━━━━━━━━━━━━━━━━╇━━━━━━━━━━━━━━━┩\n",
       "│ dense (<span style=\"color: #0087ff; text-decoration-color: #0087ff\">Dense</span>)                   │ (<span style=\"color: #00d7ff; text-decoration-color: #00d7ff\">None</span>, <span style=\"color: #00af00; text-decoration-color: #00af00\">100</span>)            │         <span style=\"color: #00af00; text-decoration-color: #00af00\">4,500</span> │\n",
       "├─────────────────────────────────┼────────────────────────┼───────────────┤\n",
       "│ batch_normalization             │ (<span style=\"color: #00d7ff; text-decoration-color: #00d7ff\">None</span>, <span style=\"color: #00af00; text-decoration-color: #00af00\">100</span>)            │           <span style=\"color: #00af00; text-decoration-color: #00af00\">400</span> │\n",
       "│ (<span style=\"color: #0087ff; text-decoration-color: #0087ff\">BatchNormalization</span>)            │                        │               │\n",
       "├─────────────────────────────────┼────────────────────────┼───────────────┤\n",
       "│ dropout (<span style=\"color: #0087ff; text-decoration-color: #0087ff\">Dropout</span>)               │ (<span style=\"color: #00d7ff; text-decoration-color: #00d7ff\">None</span>, <span style=\"color: #00af00; text-decoration-color: #00af00\">100</span>)            │             <span style=\"color: #00af00; text-decoration-color: #00af00\">0</span> │\n",
       "├─────────────────────────────────┼────────────────────────┼───────────────┤\n",
       "│ dense_1 (<span style=\"color: #0087ff; text-decoration-color: #0087ff\">Dense</span>)                 │ (<span style=\"color: #00d7ff; text-decoration-color: #00d7ff\">None</span>, <span style=\"color: #00af00; text-decoration-color: #00af00\">50</span>)             │         <span style=\"color: #00af00; text-decoration-color: #00af00\">5,050</span> │\n",
       "├─────────────────────────────────┼────────────────────────┼───────────────┤\n",
       "│ batch_normalization_1           │ (<span style=\"color: #00d7ff; text-decoration-color: #00d7ff\">None</span>, <span style=\"color: #00af00; text-decoration-color: #00af00\">50</span>)             │           <span style=\"color: #00af00; text-decoration-color: #00af00\">200</span> │\n",
       "│ (<span style=\"color: #0087ff; text-decoration-color: #0087ff\">BatchNormalization</span>)            │                        │               │\n",
       "├─────────────────────────────────┼────────────────────────┼───────────────┤\n",
       "│ dropout_1 (<span style=\"color: #0087ff; text-decoration-color: #0087ff\">Dropout</span>)             │ (<span style=\"color: #00d7ff; text-decoration-color: #00d7ff\">None</span>, <span style=\"color: #00af00; text-decoration-color: #00af00\">50</span>)             │             <span style=\"color: #00af00; text-decoration-color: #00af00\">0</span> │\n",
       "├─────────────────────────────────┼────────────────────────┼───────────────┤\n",
       "│ dense_2 (<span style=\"color: #0087ff; text-decoration-color: #0087ff\">Dense</span>)                 │ (<span style=\"color: #00d7ff; text-decoration-color: #00d7ff\">None</span>, <span style=\"color: #00af00; text-decoration-color: #00af00\">1</span>)              │            <span style=\"color: #00af00; text-decoration-color: #00af00\">51</span> │\n",
       "└─────────────────────────────────┴────────────────────────┴───────────────┘\n",
       "</pre>\n"
      ],
      "text/plain": [
       "┏━━━━━━━━━━━━━━━━━━━━━━━━━━━━━━━━━┳━━━━━━━━━━━━━━━━━━━━━━━━┳━━━━━━━━━━━━━━━┓\n",
       "┃\u001b[1m \u001b[0m\u001b[1mLayer (type)                   \u001b[0m\u001b[1m \u001b[0m┃\u001b[1m \u001b[0m\u001b[1mOutput Shape          \u001b[0m\u001b[1m \u001b[0m┃\u001b[1m \u001b[0m\u001b[1m      Param #\u001b[0m\u001b[1m \u001b[0m┃\n",
       "┡━━━━━━━━━━━━━━━━━━━━━━━━━━━━━━━━━╇━━━━━━━━━━━━━━━━━━━━━━━━╇━━━━━━━━━━━━━━━┩\n",
       "│ dense (\u001b[38;5;33mDense\u001b[0m)                   │ (\u001b[38;5;45mNone\u001b[0m, \u001b[38;5;34m100\u001b[0m)            │         \u001b[38;5;34m4,500\u001b[0m │\n",
       "├─────────────────────────────────┼────────────────────────┼───────────────┤\n",
       "│ batch_normalization             │ (\u001b[38;5;45mNone\u001b[0m, \u001b[38;5;34m100\u001b[0m)            │           \u001b[38;5;34m400\u001b[0m │\n",
       "│ (\u001b[38;5;33mBatchNormalization\u001b[0m)            │                        │               │\n",
       "├─────────────────────────────────┼────────────────────────┼───────────────┤\n",
       "│ dropout (\u001b[38;5;33mDropout\u001b[0m)               │ (\u001b[38;5;45mNone\u001b[0m, \u001b[38;5;34m100\u001b[0m)            │             \u001b[38;5;34m0\u001b[0m │\n",
       "├─────────────────────────────────┼────────────────────────┼───────────────┤\n",
       "│ dense_1 (\u001b[38;5;33mDense\u001b[0m)                 │ (\u001b[38;5;45mNone\u001b[0m, \u001b[38;5;34m50\u001b[0m)             │         \u001b[38;5;34m5,050\u001b[0m │\n",
       "├─────────────────────────────────┼────────────────────────┼───────────────┤\n",
       "│ batch_normalization_1           │ (\u001b[38;5;45mNone\u001b[0m, \u001b[38;5;34m50\u001b[0m)             │           \u001b[38;5;34m200\u001b[0m │\n",
       "│ (\u001b[38;5;33mBatchNormalization\u001b[0m)            │                        │               │\n",
       "├─────────────────────────────────┼────────────────────────┼───────────────┤\n",
       "│ dropout_1 (\u001b[38;5;33mDropout\u001b[0m)             │ (\u001b[38;5;45mNone\u001b[0m, \u001b[38;5;34m50\u001b[0m)             │             \u001b[38;5;34m0\u001b[0m │\n",
       "├─────────────────────────────────┼────────────────────────┼───────────────┤\n",
       "│ dense_2 (\u001b[38;5;33mDense\u001b[0m)                 │ (\u001b[38;5;45mNone\u001b[0m, \u001b[38;5;34m1\u001b[0m)              │            \u001b[38;5;34m51\u001b[0m │\n",
       "└─────────────────────────────────┴────────────────────────┴───────────────┘\n"
      ]
     },
     "metadata": {},
     "output_type": "display_data"
    },
    {
     "data": {
      "text/html": [
       "<pre style=\"white-space:pre;overflow-x:auto;line-height:normal;font-family:Menlo,'DejaVu Sans Mono',consolas,'Courier New',monospace\"><span style=\"font-weight: bold\"> Total params: </span><span style=\"color: #00af00; text-decoration-color: #00af00\">10,201</span> (39.85 KB)\n",
       "</pre>\n"
      ],
      "text/plain": [
       "\u001b[1m Total params: \u001b[0m\u001b[38;5;34m10,201\u001b[0m (39.85 KB)\n"
      ]
     },
     "metadata": {},
     "output_type": "display_data"
    },
    {
     "data": {
      "text/html": [
       "<pre style=\"white-space:pre;overflow-x:auto;line-height:normal;font-family:Menlo,'DejaVu Sans Mono',consolas,'Courier New',monospace\"><span style=\"font-weight: bold\"> Trainable params: </span><span style=\"color: #00af00; text-decoration-color: #00af00\">9,901</span> (38.68 KB)\n",
       "</pre>\n"
      ],
      "text/plain": [
       "\u001b[1m Trainable params: \u001b[0m\u001b[38;5;34m9,901\u001b[0m (38.68 KB)\n"
      ]
     },
     "metadata": {},
     "output_type": "display_data"
    },
    {
     "data": {
      "text/html": [
       "<pre style=\"white-space:pre;overflow-x:auto;line-height:normal;font-family:Menlo,'DejaVu Sans Mono',consolas,'Courier New',monospace\"><span style=\"font-weight: bold\"> Non-trainable params: </span><span style=\"color: #00af00; text-decoration-color: #00af00\">300</span> (1.17 KB)\n",
       "</pre>\n"
      ],
      "text/plain": [
       "\u001b[1m Non-trainable params: \u001b[0m\u001b[38;5;34m300\u001b[0m (1.17 KB)\n"
      ]
     },
     "metadata": {},
     "output_type": "display_data"
    }
   ],
   "source": [
    "\"\"\"\n",
    "- initializes a deep neural network.\n",
    "\"\"\"\n",
    "\n",
    "# initialize model\n",
    "def initialize_model(input_shape: tuple):\n",
    "    reg = regularizers.l1_l2(l1=0.005)\n",
    "    model = models.Sequential()\n",
    "    model.add(layers.Input(shape=input_shape))\n",
    "    model.add(layers.Dense(100, activation=\"relu\", kernel_regularizer=reg))\n",
    "    model.add(layers.BatchNormalization(momentum=0.9))\n",
    "    model.add(layers.Dropout(rate=0.1))\n",
    "    model.add(layers.Dense(50, activation=\"relu\"))\n",
    "    model.add(layers.BatchNormalization(momentum=0.9))\n",
    "    model.add(layers.Dropout(rate=0.1))\n",
    "    model.add(layers.Dense(1, activation=\"linear\"))\n",
    "    print(\"✅ model initialized\")\n",
    "    return model\n",
    "\n",
    "input_shape = (X_train_processed.shape[1],)\n",
    "model = initialize_model(input_shape)\n",
    "model.summary()\n"
   ]
  },
  {
   "cell_type": "code",
   "execution_count": 11,
   "metadata": {},
   "outputs": [
    {
     "name": "stdout",
     "output_type": "stream",
     "text": [
      "Epoch 1/100\n",
      "\u001b[1m216/216\u001b[0m \u001b[32m━━━━━━━━━━━━━━━━━━━━\u001b[0m\u001b[37m\u001b[0m \u001b[1m4s\u001b[0m 7ms/step - loss: 2.6737 - mae: 0.6238 - val_loss: 1.4724 - val_mae: 0.5209\n",
      "Epoch 2/100\n",
      "\u001b[1m216/216\u001b[0m \u001b[32m━━━━━━━━━━━━━━━━━━━━\u001b[0m\u001b[37m\u001b[0m \u001b[1m1s\u001b[0m 5ms/step - loss: 1.0892 - mae: 0.3220 - val_loss: 0.8803 - val_mae: 0.4940\n",
      "Epoch 3/100\n",
      "\u001b[1m216/216\u001b[0m \u001b[32m━━━━━━━━━━━━━━━━━━━━\u001b[0m\u001b[37m\u001b[0m \u001b[1m1s\u001b[0m 5ms/step - loss: 0.6507 - mae: 0.2530 - val_loss: 0.5986 - val_mae: 0.3937\n",
      "Epoch 4/100\n",
      "\u001b[1m216/216\u001b[0m \u001b[32m━━━━━━━━━━━━━━━━━━━━\u001b[0m\u001b[37m\u001b[0m \u001b[1m1s\u001b[0m 5ms/step - loss: 0.4495 - mae: 0.2037 - val_loss: 0.4626 - val_mae: 0.3874\n",
      "Epoch 5/100\n",
      "\u001b[1m216/216\u001b[0m \u001b[32m━━━━━━━━━━━━━━━━━━━━\u001b[0m\u001b[37m\u001b[0m \u001b[1m1s\u001b[0m 5ms/step - loss: 0.3044 - mae: 0.1656 - val_loss: 0.2864 - val_mae: 0.2884\n",
      "Epoch 6/100\n",
      "\u001b[1m216/216\u001b[0m \u001b[32m━━━━━━━━━━━━━━━━━━━━\u001b[0m\u001b[37m\u001b[0m \u001b[1m1s\u001b[0m 5ms/step - loss: 0.2029 - mae: 0.1371 - val_loss: 0.1686 - val_mae: 0.1933\n",
      "Epoch 7/100\n",
      "\u001b[1m216/216\u001b[0m \u001b[32m━━━━━━━━━━━━━━━━━━━━\u001b[0m\u001b[37m\u001b[0m \u001b[1m1s\u001b[0m 5ms/step - loss: 0.1334 - mae: 0.1138 - val_loss: 0.1417 - val_mae: 0.2327\n",
      "Epoch 8/100\n",
      "\u001b[1m216/216\u001b[0m \u001b[32m━━━━━━━━━━━━━━━━━━━━\u001b[0m\u001b[37m\u001b[0m \u001b[1m1s\u001b[0m 5ms/step - loss: 0.0871 - mae: 0.0944 - val_loss: 0.1215 - val_mae: 0.2396\n",
      "Epoch 9/100\n",
      "\u001b[1m216/216\u001b[0m \u001b[32m━━━━━━━━━━━━━━━━━━━━\u001b[0m\u001b[37m\u001b[0m \u001b[1m1s\u001b[0m 5ms/step - loss: 0.0581 - mae: 0.0795 - val_loss: 0.1072 - val_mae: 0.2483\n",
      "Epoch 10/100\n",
      "\u001b[1m216/216\u001b[0m \u001b[32m━━━━━━━━━━━━━━━━━━━━\u001b[0m\u001b[37m\u001b[0m \u001b[1m1s\u001b[0m 6ms/step - loss: 0.0393 - mae: 0.0694 - val_loss: 0.0881 - val_mae: 0.2356\n",
      "Epoch 11/100\n",
      "\u001b[1m216/216\u001b[0m \u001b[32m━━━━━━━━━━━━━━━━━━━━\u001b[0m\u001b[37m\u001b[0m \u001b[1m2s\u001b[0m 7ms/step - loss: 0.0269 - mae: 0.0616 - val_loss: 0.0509 - val_mae: 0.1762\n",
      "Epoch 12/100\n",
      "\u001b[1m216/216\u001b[0m \u001b[32m━━━━━━━━━━━━━━━━━━━━\u001b[0m\u001b[37m\u001b[0m \u001b[1m2s\u001b[0m 7ms/step - loss: 0.0180 - mae: 0.0536 - val_loss: 0.0444 - val_mae: 0.1728\n",
      "Epoch 13/100\n",
      "\u001b[1m216/216\u001b[0m \u001b[32m━━━━━━━━━━━━━━━━━━━━\u001b[0m\u001b[37m\u001b[0m \u001b[1m2s\u001b[0m 7ms/step - loss: 0.0130 - mae: 0.0488 - val_loss: 0.0574 - val_mae: 0.1986\n",
      "Epoch 14/100\n",
      "\u001b[1m216/216\u001b[0m \u001b[32m━━━━━━━━━━━━━━━━━━━━\u001b[0m\u001b[37m\u001b[0m \u001b[1m2s\u001b[0m 7ms/step - loss: 0.0104 - mae: 0.0465 - val_loss: 0.1183 - val_mae: 0.3126\n",
      "Epoch 14: early stopping\n",
      "Restoring model weights from the end of the best epoch: 12.\n"
     ]
    },
    {
     "name": "stderr",
     "output_type": "stream",
     "text": [
      "WARNING:absl:You are saving your model as an HDF5 file via `model.save()` or `keras.saving.save_model(model)`. This file format is considered legacy. We recommend using instead the native Keras format, e.g. `model.save('my_model.keras')` or `keras.saving.save_model(model, 'my_model.keras')`. \n"
     ]
    },
    {
     "data": {
      "text/plain": [
       "['/root/code/senetan/MEGA_project/models/target_scaler.pkl']"
      ]
     },
     "execution_count": 11,
     "metadata": {},
     "output_type": "execute_result"
    }
   ],
   "source": [
    "# compile model\n",
    "learning_rate = 0.0005\n",
    "batch_size = 256\n",
    "optimizer = Adam(learning_rate=learning_rate)\n",
    "model.compile(loss=\"mean_squared_error\", optimizer=optimizer, metrics=[\"mae\"])\n",
    "\n",
    "# early stopping callback\n",
    "es = EarlyStopping(\n",
    "    monitor=\"val_loss\",\n",
    "    patience=2,\n",
    "    restore_best_weights=True,\n",
    "    verbose=1\n",
    ")\n",
    "\n",
    "# train on scaled targets\n",
    "history = model.fit(\n",
    "    X_train_processed,\n",
    "    y_train_scaled,\n",
    "    validation_data=(X_val_processed, y_val_scaled),\n",
    "    epochs=100,\n",
    "    batch_size=batch_size,\n",
    "    callbacks=[es],\n",
    "    verbose=1\n",
    ")\n",
    "model_and_pipeline = {\n",
    "    'features_pipeline': features_pipeline,\n",
    "    'target_scaler': target_scaler\n",
    "}\n",
    "# export the model\n",
    "model.save('/root/code/senetan/MEGA_project/models/MEGA_model.h5')\n",
    "\n",
    "joblib.dump(features_pipeline, '/root/code/senetan/MEGA_project/models/features_pipeline.pkl')\n",
    "joblib.dump(target_scaler, '/root/code/senetan/MEGA_project/models/target_scaler.pkl')"
   ]
  },
  {
   "cell_type": "markdown",
   "metadata": {},
   "source": [
    "## 7. Predict and evaluate the model"
   ]
  },
  {
   "cell_type": "code",
   "execution_count": 13,
   "metadata": {},
   "outputs": [
    {
     "name": "stdout",
     "output_type": "stream",
     "text": [
      "mae val (scaled): 0.21\n",
      "mae test (scaled): 0.05\n",
      "\u001b[1m540/540\u001b[0m \u001b[32m━━━━━━━━━━━━━━━━━━━━\u001b[0m\u001b[37m\u001b[0m \u001b[1m1s\u001b[0m 3ms/step\n",
      "mae test (gco2eq/kwh): 12.69\n",
      "mse test (gco2eq/kwh): 203.97\n"
     ]
    }
   ],
   "source": [
    "# evaluate in scaled units\n",
    "val_metrics_scaled = model.evaluate(X_val_processed, y_val_scaled, verbose=0)\n",
    "test_metrics_scaled = model.evaluate(X_test_processed, y_test_scaled, verbose=0)\n",
    "print(\"mae val (scaled):\", round(val_metrics_scaled[1], 2))\n",
    "print(\"mae test (scaled):\", round(test_metrics_scaled[1], 2))\n",
    "\n",
    "# predict on test set (reverse scaled to find back the right, unscaled units)\n",
    "y_pred_scaled = model.predict(X_test_processed)\n",
    "# inverse transform predictions and test targets to original gco2eq/kwh units\n",
    "y_pred = target_scaler.inverse_transform(y_pred_scaled)\n",
    "y_test_original = target_scaler.inverse_transform(y_test_scaled)\n",
    "\n",
    "mse = mean_squared_error(y_test_original, y_pred)\n",
    "mae = mean_absolute_error(y_test_original, y_pred)\n",
    "print(\"mae test (gco2eq/kwh):\", round(mae, 2))\n",
    "print(\"mse test (gco2eq/kwh):\", round(mse, 2))\n"
   ]
  },
  {
   "cell_type": "code",
   "execution_count": 14,
   "metadata": {},
   "outputs": [
    {
     "name": "stdout",
     "output_type": "stream",
     "text": [
      "mean carbon intensity (gco2eq/kwh): 383.0\n",
      "mae test as percentage of average carbon intensity: 3.31 %\n",
      "Ok the mae is around 11% of the mean carbon intensity, not great but not too bad\n"
     ]
    }
   ],
   "source": [
    "# compute the average carbon intensity over the period\n",
    "mean_carbon = df_de_merged['carbonIntensity'].mean()\n",
    "print(\"mean carbon intensity (gco2eq/kwh):\", round(mean_carbon, 2))\n",
    "\n",
    "# assume mae is the test MAE in gco2eq/kwh (e.g., 42.51)\n",
    "# compute the percentage error\n",
    "percentage_error = (mae / mean_carbon) * 100\n",
    "print(\"mae test as percentage of average carbon intensity:\", round(percentage_error, 2), \"%\")\n",
    "print(\"Ok the mae is around 11% of the mean carbon intensity, not great but not too bad\")"
   ]
  },
  {
   "cell_type": "code",
   "execution_count": 15,
   "metadata": {},
   "outputs": [
    {
     "data": {
      "image/png": "[encoded data removed]",
      "text/plain": [
       "<Figure size 1200x500 with 2 Axes>"
      ]
     },
     "metadata": {},
     "output_type": "display_data"
    }
   ],
   "source": [
    "# Plot training history: loss and MAE\n",
    "\n",
    "plt.figure(figsize=(12, 5))\n",
    "\n",
    "# left: training and validation loss\n",
    "plt.subplot(1, 2, 1)\n",
    "plt.plot(history.history['loss'], label='train_loss')\n",
    "plt.plot(history.history['val_loss'], label='val_loss')\n",
    "plt.xlabel('epochs')\n",
    "plt.ylabel('mse loss')\n",
    "plt.title('training and validation loss')\n",
    "plt.legend()\n",
    "\n",
    "# right: training and validation mae\n",
    "plt.subplot(1, 2, 2)\n",
    "plt.plot(history.history['mae'], label='train_mae')\n",
    "plt.plot(history.history['val_mae'], label='val_mae')\n",
    "plt.xlabel('epochs')\n",
    "plt.ylabel('mae')\n",
    "plt.title('training and validation mae')\n",
    "plt.legend()\n",
    "\n",
    "plt.tight_layout()\n",
    "plt.show()\n"
   ]
  },
  {
   "cell_type": "code",
   "execution_count": 16,
   "metadata": {},
   "outputs": [
    {
     "name": "stdout",
     "output_type": "stream",
     "text": [
      "y_pred min: 440.30087 max: 459.686\n",
      "y_test_original min: 437.0 max: 459.0\n"
     ]
    },
    {
     "data": {
      "text/plain": [
       "<matplotlib.legend.Legend at 0x7fb7c5f09810>"
      ]
     },
     "execution_count": 16,
     "metadata": {},
     "output_type": "execute_result"
    },
    {
     "data": {
      "image/png": "[encoded data removed]",
      "text/plain": [
       "<Figure size 1500x800 with 1 Axes>"
      ]
     },
     "metadata": {},
     "output_type": "display_data"
    }
   ],
   "source": [
    "#visualization of predictions\n",
    "\n",
    "# print the range of predictions and true values\n",
    "print(\"y_pred min:\", np.min(y_pred), \"max:\", np.max(y_pred))\n",
    "print(\"y_test_original min:\", np.min(y_test_original), \"max:\", np.max(y_test_original))\n",
    "\n",
    "plt.figure(figsize=(15, 8))\n",
    "sns.scatterplot(x=y_test_original.flatten(), y=y_pred.flatten(), color='blue', alpha=0.6, label='predicted')\n",
    "\n",
    "plt.xlabel(\"true carbon intensity (gco2eq/kwh)\")\n",
    "plt.ylabel(\"predicted carbon intensity (gco2eq/kwh)\")\n",
    "plt.title(\"scatter plot: predicted vs truth carbon intensity\")\n",
    "\n",
    "# overlay a perfect prediction line\n",
    "min_val = np.min(y_test_original)\n",
    "max_val = np.max(y_test_original)\n",
    "plt.plot([min_val, max_val], [min_val, max_val], 'r--', label=\"perfect prediction\")\n",
    "plt.legend()"
   ]
  },
  {
   "cell_type": "code",
   "execution_count": 17,
   "metadata": {},
   "outputs": [
    {
     "data": {
      "image/png": "[encoded data removed]",
      "text/plain": [
       "<Figure size 800x600 with 1 Axes>"
      ]
     },
     "metadata": {},
     "output_type": "display_data"
    }
   ],
   "source": [
    "residuals = y_test_original.flatten() - y_pred.flatten()\n",
    "# plot residuals distribution\n",
    "plt.figure(figsize=(8,6))\n",
    "sns.histplot(residuals, bins=np.arange(-20, 20, 1), kde=True, color=\"skyblue\")\n",
    "plt.xlim(-20, 20)\n",
    "plt.xlabel(\"residuals (gco2eq/kwh)\")\n",
    "plt.ylabel(\"count\")\n",
    "plt.title(\"distribution of residuals\")\n",
    "plt.show()"
   ]
  },
  {
   "cell_type": "code",
   "execution_count": 18,
   "metadata": {},
   "outputs": [
    {
     "name": "stdout",
     "output_type": "stream",
     "text": [
      "\u001b[1m1/1\u001b[0m \u001b[32m━━━━━━━━━━━━━━━━━━━━\u001b[0m\u001b[37m\u001b[0m \u001b[1m0s\u001b[0m 99ms/step\n",
      "predicted carbon intensity for 12 april 2025 at 12:00: 178.04585 gco2eq/kwh\n"
     ]
    }
   ],
   "source": [
    "# example input for a specific datetime with sample energy mix values\n",
    "sample_input = {\n",
    "    \"datetime\": \"2025-04-12T12:00:00.000Z\",\n",
    "    \"powerConsumptionBreakdown.nuclear\": 50,\n",
    "    \"powerConsumptionBreakdown.geothermal\": 10,\n",
    "    \"powerConsumptionBreakdown.biomass\": 100,\n",
    "    \"powerConsumptionBreakdown.coal\": 200,\n",
    "    \"powerConsumptionBreakdown.wind\": 300,\n",
    "    \"powerConsumptionBreakdown.solar\": 20,\n",
    "    \"powerConsumptionBreakdown.hydro\": 400,\n",
    "    \"powerConsumptionBreakdown.gas\": 150,\n",
    "    \"powerConsumptionBreakdown.oil\": 30\n",
    "}\n",
    "\n",
    "sample_df = pd.DataFrame([sample_input])\n",
    "sample_features = features_pipeline.transform(sample_df)\n",
    "sample_pred_scaled = model.predict(sample_features)\n",
    "sample_pred = target_scaler.inverse_transform(sample_pred_scaled)\n",
    "print(\"predicted carbon intensity for 12 april 2025 at 12:00:\", sample_pred[0][0], \"gco2eq/kwh\")\n"
   ]
  },
  {
   "cell_type": "markdown",
   "metadata": {},
   "source": [
    "## 8. FastAPI draft code"
   ]
  },
  {
   "cell_type": "code",
   "execution_count": null,
   "metadata": {},
   "outputs": [
    {
     "name": "stderr",
     "output_type": "stream",
     "text": [
      "/root/.pyenv/versions/3.10.6/lib/python3.10/ast.py:252: RuntimeWarning: coroutine 'Server.serve' was never awaited\n",
      "  for field in node._fields:\n",
      "RuntimeWarning: Enable tracemalloc to get the object allocation traceback\n"
     ]
    },
    {
     "ename": "RuntimeError",
     "evalue": "asyncio.run() cannot be called from a running event loop",
     "output_type": "error",
     "traceback": [
      "\u001b[0;31m---------------------------------------------------------------------------\u001b[0m",
      "\u001b[0;31mRuntimeError\u001b[0m                              Traceback (most recent call last)",
      "Cell \u001b[0;32mIn[20], line 43\u001b[0m\n\u001b[1;32m     40\u001b[0m     \u001b[38;5;28;01mreturn\u001b[39;00m {\u001b[38;5;124m\"\u001b[39m\u001b[38;5;124mpredicted_carbon_intensity\u001b[39m\u001b[38;5;124m\"\u001b[39m: pred[\u001b[38;5;241m0\u001b[39m][\u001b[38;5;241m0\u001b[39m]}\n\u001b[1;32m     42\u001b[0m \u001b[38;5;66;03m# run the app with: uvicorn.run(app, host=\"0.0.0.0\", port=8000)\u001b[39;00m\n\u001b[0;32m---> 43\u001b[0m \u001b[43muvicorn\u001b[49m\u001b[38;5;241;43m.\u001b[39;49m\u001b[43mrun\u001b[49m\u001b[43m(\u001b[49m\u001b[43mapp\u001b[49m\u001b[43m,\u001b[49m\u001b[43m \u001b[49m\u001b[43mhost\u001b[49m\u001b[38;5;241;43m=\u001b[39;49m\u001b[38;5;124;43m\"\u001b[39;49m\u001b[38;5;124;43m0.0.0.0\u001b[39;49m\u001b[38;5;124;43m\"\u001b[39;49m\u001b[43m,\u001b[49m\u001b[43m \u001b[49m\u001b[43mport\u001b[49m\u001b[38;5;241;43m=\u001b[39;49m\u001b[38;5;241;43m8000\u001b[39;49m\u001b[43m)\u001b[49m\n",
      "File \u001b[0;32m~/.pyenv/versions/3.10.6/envs/MEGA_project/lib/python3.10/site-packages/uvicorn/main.py:579\u001b[0m, in \u001b[0;36mrun\u001b[0;34m(app, host, port, uds, fd, loop, http, ws, ws_max_size, ws_max_queue, ws_ping_interval, ws_ping_timeout, ws_per_message_deflate, lifespan, interface, reload, reload_dirs, reload_includes, reload_excludes, reload_delay, workers, env_file, log_config, log_level, access_log, proxy_headers, server_header, date_header, forwarded_allow_ips, root_path, limit_concurrency, backlog, limit_max_requests, timeout_keep_alive, timeout_graceful_shutdown, ssl_keyfile, ssl_certfile, ssl_keyfile_password, ssl_version, ssl_cert_reqs, ssl_ca_certs, ssl_ciphers, headers, use_colors, app_dir, factory, h11_max_incomplete_event_size)\u001b[0m\n\u001b[1;32m    577\u001b[0m         Multiprocess(config, target\u001b[38;5;241m=\u001b[39mserver\u001b[38;5;241m.\u001b[39mrun, sockets\u001b[38;5;241m=\u001b[39m[sock])\u001b[38;5;241m.\u001b[39mrun()\n\u001b[1;32m    578\u001b[0m     \u001b[38;5;28;01melse\u001b[39;00m:\n\u001b[0;32m--> 579\u001b[0m         \u001b[43mserver\u001b[49m\u001b[38;5;241;43m.\u001b[39;49m\u001b[43mrun\u001b[49m\u001b[43m(\u001b[49m\u001b[43m)\u001b[49m\n\u001b[1;32m    580\u001b[0m \u001b[38;5;28;01mexcept\u001b[39;00m \u001b[38;5;167;01mKeyboardInterrupt\u001b[39;00m:\n\u001b[1;32m    581\u001b[0m     \u001b[38;5;28;01mpass\u001b[39;00m  \u001b[38;5;66;03m# pragma: full coverage\u001b[39;00m\n",
      "File \u001b[0;32m~/.pyenv/versions/3.10.6/envs/MEGA_project/lib/python3.10/site-packages/uvicorn/server.py:66\u001b[0m, in \u001b[0;36mServer.run\u001b[0;34m(self, sockets)\u001b[0m\n\u001b[1;32m     64\u001b[0m \u001b[38;5;28;01mdef\u001b[39;00m\u001b[38;5;250m \u001b[39m\u001b[38;5;21mrun\u001b[39m(\u001b[38;5;28mself\u001b[39m, sockets: \u001b[38;5;28mlist\u001b[39m[socket\u001b[38;5;241m.\u001b[39msocket] \u001b[38;5;241m|\u001b[39m \u001b[38;5;28;01mNone\u001b[39;00m \u001b[38;5;241m=\u001b[39m \u001b[38;5;28;01mNone\u001b[39;00m) \u001b[38;5;241m-\u001b[39m\u001b[38;5;241m>\u001b[39m \u001b[38;5;28;01mNone\u001b[39;00m:\n\u001b[1;32m     65\u001b[0m     \u001b[38;5;28mself\u001b[39m\u001b[38;5;241m.\u001b[39mconfig\u001b[38;5;241m.\u001b[39msetup_event_loop()\n\u001b[0;32m---> 66\u001b[0m     \u001b[38;5;28;01mreturn\u001b[39;00m \u001b[43masyncio\u001b[49m\u001b[38;5;241;43m.\u001b[39;49m\u001b[43mrun\u001b[49m\u001b[43m(\u001b[49m\u001b[38;5;28;43mself\u001b[39;49m\u001b[38;5;241;43m.\u001b[39;49m\u001b[43mserve\u001b[49m\u001b[43m(\u001b[49m\u001b[43msockets\u001b[49m\u001b[38;5;241;43m=\u001b[39;49m\u001b[43msockets\u001b[49m\u001b[43m)\u001b[49m\u001b[43m)\u001b[49m\n",
      "File \u001b[0;32m~/.pyenv/versions/3.10.6/lib/python3.10/asyncio/runners.py:33\u001b[0m, in \u001b[0;36mrun\u001b[0;34m(main, debug)\u001b[0m\n\u001b[1;32m      9\u001b[0m \u001b[38;5;250m\u001b[39m\u001b[38;5;124;03m\"\"\"Execute the coroutine and return the result.\u001b[39;00m\n\u001b[1;32m     10\u001b[0m \n\u001b[1;32m     11\u001b[0m \u001b[38;5;124;03mThis function runs the passed coroutine, taking care of\u001b[39;00m\n\u001b[0;32m   (...)\u001b[0m\n\u001b[1;32m     30\u001b[0m \u001b[38;5;124;03m    asyncio.run(main())\u001b[39;00m\n\u001b[1;32m     31\u001b[0m \u001b[38;5;124;03m\"\"\"\u001b[39;00m\n\u001b[1;32m     32\u001b[0m \u001b[38;5;28;01mif\u001b[39;00m events\u001b[38;5;241m.\u001b[39m_get_running_loop() \u001b[38;5;129;01mis\u001b[39;00m \u001b[38;5;129;01mnot\u001b[39;00m \u001b[38;5;28;01mNone\u001b[39;00m:\n\u001b[0;32m---> 33\u001b[0m     \u001b[38;5;28;01mraise\u001b[39;00m \u001b[38;5;167;01mRuntimeError\u001b[39;00m(\n\u001b[1;32m     34\u001b[0m         \u001b[38;5;124m\"\u001b[39m\u001b[38;5;124masyncio.run() cannot be called from a running event loop\u001b[39m\u001b[38;5;124m\"\u001b[39m)\n\u001b[1;32m     36\u001b[0m \u001b[38;5;28;01mif\u001b[39;00m \u001b[38;5;129;01mnot\u001b[39;00m coroutines\u001b[38;5;241m.\u001b[39miscoroutine(main):\n\u001b[1;32m     37\u001b[0m     \u001b[38;5;28;01mraise\u001b[39;00m \u001b[38;5;167;01mValueError\u001b[39;00m(\u001b[38;5;124m\"\u001b[39m\u001b[38;5;124ma coroutine was expected, got \u001b[39m\u001b[38;5;132;01m{!r}\u001b[39;00m\u001b[38;5;124m\"\u001b[39m\u001b[38;5;241m.\u001b[39mformat(main))\n",
      "\u001b[0;31mRuntimeError\u001b[0m: asyncio.run() cannot be called from a running event loop"
     ]
    }
   ],
   "source": [
    "from fastapi import FastAPI\n",
    "from pydantic import BaseModel\n",
    "import uvicorn\n",
    "\n",
    "app = FastAPI()\n",
    "\n",
    "class PredictionInput(BaseModel):\n",
    "    datetime: str\n",
    "    powerConsumptionBreakdown_nuclear: float\n",
    "    powerConsumptionBreakdown_geothermal: float\n",
    "    powerConsumptionBreakdown_biomass: float\n",
    "    powerConsumptionBreakdown_coal: float\n",
    "    powerConsumptionBreakdown_wind: float\n",
    "    powerConsumptionBreakdown_solar: float\n",
    "    powerConsumptionBreakdown_hydro: float\n",
    "    powerConsumptionBreakdown_gas: float\n",
    "    powerConsumptionBreakdown_oil: float\n",
    "\n",
    "@app.post(\"/predict\")\n",
    "def predict(input_data: PredictionInput):\n",
    "    data = input_data.dict()\n",
    "    # rename keys to match expected columns\n",
    "    mapping = {\n",
    "        \"powerConsumptionBreakdown_nuclear\": \"powerConsumptionBreakdown.nuclear\",\n",
    "        \"powerConsumptionBreakdown_geothermal\": \"powerConsumptionBreakdown.geothermal\",\n",
    "        \"powerConsumptionBreakdown_biomass\": \"powerConsumptionBreakdown.biomass\",\n",
    "        \"powerConsumptionBreakdown_coal\": \"powerConsumptionBreakdown.coal\",\n",
    "        \"powerConsumptionBreakdown_wind\": \"powerConsumptionBreakdown.wind\",\n",
    "        \"powerConsumptionBreakdown_solar\": \"powerConsumptionBreakdown.solar\",\n",
    "        \"powerConsumptionBreakdown_hydro\": \"powerConsumptionBreakdown.hydro\",\n",
    "        \"powerConsumptionBreakdown_gas\": \"powerConsumptionBreakdown.gas\",\n",
    "        \"powerConsumptionBreakdown_oil\": \"powerConsumptionBreakdown.oil\"\n",
    "    }\n",
    "    for k, v in mapping.items():\n",
    "        data[v] = data.pop(k)\n",
    "    sample_df = pd.DataFrame([data])\n",
    "    sample_features = features_pipeline.transform(sample_df)\n",
    "    pred_scaled = model.predict(sample_features)\n",
    "    pred = target_scaler.inverse_transform(pred_scaled)\n",
    "    return {\"predicted_carbon_intensity\": pred[0][0]}\n",
    "\n",
    "# run the app with: uvicorn.run(app, host=\"0.0.0.0\", port=8000)\n"
   ]
  },
  {
   "cell_type": "markdown",
   "metadata": {},
   "source": []
  },
  {
   "cell_type": "markdown",
   "metadata": {},
   "source": []
  },
  {
   "cell_type": "markdown",
   "metadata": {},
   "source": []
  },
  {
   "cell_type": "markdown",
   "metadata": {},
   "source": []
  }
 ],
 "metadata": {
  "kernelspec": {
   "display_name": "MEGA_project",
   "language": "python",
   "name": "python3"
  },
  "language_info": {
   "codemirror_mode": {
    "name": "ipython",
    "version": 3
   },
   "file_extension": ".py",
   "mimetype": "text/x-python",
   "name": "python",
   "nbconvert_exporter": "python",
   "pygments_lexer": "ipython3",
   "version": "3.10.6"
  }
 },
 "nbformat": 4,
 "nbformat_minor": 2
}
